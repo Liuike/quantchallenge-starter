{
 "cells": [
  {
   "cell_type": "markdown",
   "id": "3222fb9b",
   "metadata": {},
   "source": [
    "# This is the start of the actual research notebook\n",
    "\n",
    "### current goals:\n",
    "\n",
    "- build a functional predictor using lightgbm\n",
    "- find areas for improvement"
   ]
  },
  {
   "cell_type": "code",
   "execution_count": 1,
   "id": "6301c5ec",
   "metadata": {},
   "outputs": [],
   "source": [
    "import pandas as pd\n",
    "import numpy as np\n",
    "from sklearn.model_selection import train_test_split\n",
    "from sklearn.metrics import r2_score\n",
    "import lightgbm as lgb"
   ]
  },
  {
   "cell_type": "markdown",
   "id": "4c89bac5",
   "metadata": {},
   "source": [
    "### Load and prepare data\n"
   ]
  },
  {
   "cell_type": "code",
   "execution_count": 2,
   "id": "75a1a77c",
   "metadata": {},
   "outputs": [],
   "source": [
    "train_data = pd.read_csv('./data/train.csv')\n",
    "test_data = pd.read_csv('./data/test.csv')\n",
    "\n",
    "x = train_data.drop(columns=[\"Y1\", \"Y2\"])\n",
    "y1 = train_data[\"Y1\"]\n",
    "y2 = train_data[\"Y2\"]\n",
    "\n",
    "x_train, x_val, y1_train, y1_val = train_test_split(x, y1, test_size=0.25, shuffle=False)\n",
    "_, _, y2_train, y2_val = train_test_split(x, y2, test_size=0.25, shuffle=False)"
   ]
  },
  {
   "cell_type": "markdown",
   "id": "0f4830a0",
   "metadata": {},
   "source": [
    "### Train model"
   ]
  },
  {
   "cell_type": "code",
   "execution_count": 9,
   "id": "7c429be6",
   "metadata": {},
   "outputs": [
    {
     "name": "stdout",
     "output_type": "stream",
     "text": [
      "Training until validation scores don't improve for 50 rounds\n",
      "Early stopping, best iteration is:\n",
      "[61]\ttraining's rmse: 0.388537\tvalid_1's rmse: 0.634087\n",
      "Training until validation scores don't improve for 50 rounds\n",
      "Early stopping, best iteration is:\n",
      "[143]\ttraining's rmse: 0.306524\tvalid_1's rmse: 0.676204\n"
     ]
    }
   ],
   "source": [
    "params = {\n",
    "    \"objective\": \"regression\",\n",
    "    \"metric\": \"rmse\",\n",
    "    \"boosting_type\": \"gbdt\",\n",
    "    \"learning_rate\": 0.05,\n",
    "    \"num_leaves\": 64,\n",
    "    \"feature_fraction\": 0.9,\n",
    "    \"bagging_fraction\": 0.8,\n",
    "    \"bagging_freq\": 5,\n",
    "    \"verbose\": -1\n",
    "}\n",
    "\n",
    "# model for Y1\n",
    "y1_train_data = lgb.Dataset(x_train, label=y1_train)\n",
    "y1_val_data = lgb.Dataset(x_val, label=y1_val, reference=y1_train_data)\n",
    "\n",
    "model_y1 = lgb.train(\n",
    "    params,\n",
    "    y1_train_data,\n",
    "    valid_sets=[y1_train_data, y1_val_data],\n",
    "    num_boost_round=2000,\n",
    "    callbacks=[\n",
    "        lgb.early_stopping(50),\n",
    "        lgb.log_evaluation(200)\n",
    "    ]\n",
    ")\n",
    "\n",
    "# model for Y2\n",
    "y2_train_data = lgb.Dataset(x_train, label=y2_train)\n",
    "y2_val_data = lgb.Dataset(x_val, label=y2_val, reference=y2_train_data)\n",
    "\n",
    "model_y2 = lgb.train(\n",
    "    params,\n",
    "    y2_train_data,\n",
    "    valid_sets=[y2_train_data, y2_val_data],\n",
    "    num_boost_round=2000,\n",
    "    callbacks=[\n",
    "        lgb.early_stopping(50),\n",
    "        lgb.log_evaluation(200)\n",
    "    ]\n",
    ")"
   ]
  },
  {
   "cell_type": "markdown",
   "id": "406452ea",
   "metadata": {},
   "source": [
    "### Evaluation and Prediction"
   ]
  },
  {
   "cell_type": "code",
   "execution_count": 10,
   "id": "9bb07de5",
   "metadata": {},
   "outputs": [
    {
     "name": "stdout",
     "output_type": "stream",
     "text": [
      "R2 for Y1:  0.7083220716763224\n",
      "R2 for Y2:  0.6419106628032614\n"
     ]
    }
   ],
   "source": [
    "val_pred_y1 = model_y1.predict(x_val)\n",
    "val_pred_y2 = model_y2.predict(x_val)\n",
    "\n",
    "print(\"R2 for Y1: \", r2_score(y1_val, val_pred_y1))\n",
    "print(\"R2 for Y2: \", r2_score(y2_val, val_pred_y2))"
   ]
  },
  {
   "cell_type": "code",
   "execution_count": 11,
   "id": "02bded59",
   "metadata": {},
   "outputs": [],
   "source": [
    "test_pred_y1 = model_y1.predict(test_data.drop(columns=[\"id\"]))\n",
    "test_pred_y2 = model_y2.predict(test_data.drop(columns=[\"id\"]))"
   ]
  },
  {
   "cell_type": "markdown",
   "id": "2aec944b",
   "metadata": {},
   "source": [
    "### Submission data"
   ]
  },
  {
   "cell_type": "code",
   "execution_count": 25,
   "id": "8cc5d6a1",
   "metadata": {},
   "outputs": [
    {
     "name": "stdout",
     "output_type": "stream",
     "text": [
      "saved to csv file\n"
     ]
    }
   ],
   "source": [
    "submission = pd.DataFrame({\n",
    "    \"id\": test_data[\"id\"],\n",
    "    \"Y1\": test_pred_y1,\n",
    "    \"Y2\": test_pred_y2\n",
    "})\n",
    "\n",
    "import datetime\n",
    "import os\n",
    "now = datetime.datetime.now().strftime(\"%Y-%m-%d_%H-%M-%S\")\n",
    "\n",
    "path = os.path.join(r\"submissions\", f\"submission{now}.csv\")\n",
    "submission.to_csv(path, index=False)\n",
    "print(\"saved to csv file\")"
   ]
  }
 ],
 "metadata": {
  "kernelspec": {
   "display_name": ".venv",
   "language": "python",
   "name": "python3"
  },
  "language_info": {
   "codemirror_mode": {
    "name": "ipython",
    "version": 3
   },
   "file_extension": ".py",
   "mimetype": "text/x-python",
   "name": "python",
   "nbconvert_exporter": "python",
   "pygments_lexer": "ipython3",
   "version": "3.13.7"
  }
 },
 "nbformat": 4,
 "nbformat_minor": 5
}
